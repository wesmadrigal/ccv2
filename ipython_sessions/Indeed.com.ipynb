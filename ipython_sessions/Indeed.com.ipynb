{
 "metadata": {
  "name": ""
 },
 "nbformat": 3,
 "nbformat_minor": 0,
 "worksheets": [
  {
   "cells": [
    {
     "cell_type": "code",
     "collapsed": false,
     "input": [
      "import mechanize\n",
      "import cookielib\n",
      "from bs4 import BeautifulSoup\n",
      "import urllib2"
     ],
     "language": "python",
     "metadata": {},
     "outputs": [],
     "prompt_number": 4
    },
    {
     "cell_type": "code",
     "collapsed": false,
     "input": [
      "def get_browser():\n",
      "    br = mechanize.Browser()\n",
      "    cookiejar = cookielib.LWPCookieJar()\n",
      "    br.set_cookiejar(cookiejar)\n",
      "    br.set_handle_robots(False)\n",
      "    br.set_debug_http(True)\n",
      "    br.set_handle_equiv(True)\n",
      "    br.set_handle_gzip(True)\n",
      "    br.set_debug_redirects(True)\n",
      "    br.addheaders = [('User-Agent', 'Mozilla/5.0 (X11; U; Linux i686; en-US; rv:1.9.0.1) Gecko/2008071615 Fedora/3.0.1-1.fc9 Firefox/3.0.1')]\n",
      "    return br# setup the browser instance\n"
     ],
     "language": "python",
     "metadata": {},
     "outputs": [],
     "prompt_number": 9
    },
    {
     "cell_type": "code",
     "collapsed": false,
     "input": [
      "br = get_browser()"
     ],
     "language": "python",
     "metadata": {},
     "outputs": [
      {
       "output_type": "stream",
       "stream": "stderr",
       "text": [
        "-c:8: UserWarning: gzip transfer encoding is experimental!\n"
       ]
      }
     ],
     "prompt_number": 10
    },
    {
     "cell_type": "code",
     "collapsed": false,
     "input": [
      "# get all job postings\n",
      "def get_indeed_jobs(position, location):\n",
      "    br = get_browser()\n",
      "    base_url = 'http://www.indeed.com'\n",
      "    br.open(base_url)\n",
      "    br.select_form(nr=0)\n",
      "    br.set_all_readonly(False)\n",
      "    br.form['q'] = position\n",
      "    br.form['l'] = location\n",
      "    br.submit()\n",
      "    # make some soup\n",
      "    response = br.response().read()\n",
      "    soup = BeautifulSoup(response)\n",
      "    # find all the job elements\n",
      "    jobs = extract_jobs( soup )\n",
      "\n",
      "    pagination = soup.find('div', {'class' : 'pagination'})\n",
      "\n",
      "    pages = [ i for i in pagination.find_all('a', {'rel' : 'nofollow' }) ]\n",
      "    pages = [ i for i in pages if i.string.isdigit() ]\n",
      "    pages = [ base_url + i.get('href') for i in pages ]\n",
      "    \n",
      "    # for each page, extract jobs\n",
      "    for page in pages:\n",
      "        br.open( page )\n",
      "        soup = BeautifulSoup(br.response().read())\n",
      "        jobs.append( extract_jobs( soup ) )\n",
      "    \n",
      "    return jobs\n",
      "    \n",
      "    \n",
      "    \n",
      "def extract_jobs(soup):\n",
      "    jobs = []\n",
      "    link_base = 'http://www.indeed.com'\n",
      "    job_elements = soup.find_all('div', {'class' : 'row'})\n",
      "    for job in job_elements:\n",
      "        try:\n",
      "            job_obj = {}\n",
      "            title_el = job.find('a', {'class', 'jobtitle'})\n",
      "            title = title_el.get('title')\n",
      "            link = link_base + title_el.get('href')\n",
      "            company_el = job.find('span', {'class' : 'company'})\n",
      "            company = company_el.string\n",
      "            date_el = job.find('span', {'class' : 'date'})\n",
      "            date = date_el.string\n",
      "            location_el = job.find('span', {'class' : 'location'})\n",
      "            location = location_el.string\n",
      "            job_obj['title'] = title\n",
      "            job_obj['link'] = link\n",
      "            job_obj['company'] = company\n",
      "            job_obj['location'] = location\n",
      "            job_obj['date'] = date\n",
      "            jobs.append( job_obj )\n",
      "        except:\n",
      "            continue\n",
      "    return jobs"
     ],
     "language": "python",
     "metadata": {},
     "outputs": [],
     "prompt_number": 43
    },
    {
     "cell_type": "code",
     "collapsed": false,
     "input": [
      "job_elements = get_indeed_jobs('python developer', 'chicago, il')"
     ],
     "language": "python",
     "metadata": {},
     "outputs": [
      {
       "output_type": "stream",
       "stream": "stdout",
       "text": [
        "send: 'GET / HTTP/1.1\\r\\nHost: www.indeed.com\\r\\nUser-Agent: Mozilla/5.0 (X11; U; Linux i686; en-US; rv:1.9.0.1) Gecko/2008071615 Fedora/3.0.1-1.fc9 Firefox/3.0.1\\r\\nConnection: close\\r\\nAccept-Encoding: gzip\\r\\n\\r\\n'\n",
        "reply:"
       ]
      },
      {
       "output_type": "stream",
       "stream": "stdout",
       "text": [
        " 'HTTP/1.1 200 OK\\r\\n'\n",
        "header: Date: Sun, 12 Jan 2014 06:33:34 GMT\r\n",
        "header: Server: Apache\r\n",
        "header: Set-Cookie: CTK=18e2ifint1a1i1fv; Domain=.indeed.com; Expires=Fri, 17-Jan-2031 01:22:05 GMT; Path=/\r\n",
        "header: Set-Cookie: ctkgen=1; Expires=Sun, 12-Jan-2014 06:36:34 GMT; Path=/\r\n",
        "header: Set-Cookie: DCT=8; Expires=Sun, 12-Jan-2014 08:33:34 GMT; Path=/\r\n",
        "header: Set-Cookie: JSESSIONID=E11007EA4BEA457A16FBEE217E784FE0.jasxA_ord-job14; Path=/; HttpOnly\r\n",
        "header: Set-Cookie: INDEED_CSRF_TOKEN=PX5xyMZmRCu4ceXSvYRzaUxNqeCrVBwB; Path=/\r\n",
        "header: X-Frame-Options: SAMEORIGIN\r\n",
        "header: Content-Language: en-US\r\n",
        "header: Vary: User-Agent,Accept-Encoding\r\n",
        "header: Content-Encoding: gzip\r\n",
        "header: Transfer-Encoding: chunked\r\n",
        "header: Content-Type: text/html;charset=UTF-8\r\n",
        "header: Connection: close\r\n",
        "header: Set-Cookie: BIGipServerjob_ord=3254855690.20480.0000; path=/\r\n",
        "send:"
       ]
      },
      {
       "output_type": "stream",
       "stream": "stdout",
       "text": [
        " 'GET /jobs?q=python+developer&l=chicago%2C+il HTTP/1.1\\r\\nAccept-Encoding: gzip\\r\\nHost: www.indeed.com\\r\\nUser-Agent: Mozilla/5.0 (X11; U; Linux i686; en-US; rv:1.9.0.1) Gecko/2008071615 Fedora/3.0.1-1.fc9 Firefox/3.0.1\\r\\nConnection: close\\r\\nCookie: BIGipServerjob_ord=3254855690.20480.0000; DCT=8; INDEED_CSRF_TOKEN=PX5xyMZmRCu4ceXSvYRzaUxNqeCrVBwB; ctkgen=1; JSESSIONID=E11007EA4BEA457A16FBEE217E784FE0.jasxA_ord-job14; CTK=18e2ifint1a1i1fv\\r\\nReferer: http://www.indeed.com\\r\\n\\r\\n'\n",
        "reply:"
       ]
      },
      {
       "output_type": "stream",
       "stream": "stdout",
       "text": [
        " 'HTTP/1.1 200 OK\\r\\n'\n",
        "header: Date: Sun, 12 Jan 2014 06:33:34 GMT\r\n",
        "header: Server: Apache\r\n",
        "header: Set-Cookie: PREF=\"\"; Domain=.indeed.com; Expires=Thu, 01-Jan-1970 00:00:10 GMT; Path=/\r\n",
        "header: Set-Cookie: PREF=\"ID=da5a306fedcb7f0a:TM=1389508414:NW=1:JF=1:L=chicago%2C+il\"; Version=1; Max-Age=536870911; Expires=Fri, 17-Jan-2031 01:22:05 GMT; Path=/\r\n",
        "header: Set-Cookie: RQ=\"q=python+developer&l=chicago%2C+il\"; Version=1; Max-Age=2592000; Expires=Tue, 11-Feb-2014 06:33:34 GMT; Path=/\r\n",
        "header: Set-Cookie: UD=\"ID=4de24d87dc9b1c01:AK=dd616958bd9ddc12:CV=1389508414:LA=1389508414:TS=1389508414:SG=f0f5a0380bade50576ad3ceeb6f9b219\"; Version=1; Max-Age=536870911; Expires=Fri, 17-Jan-2031 01:22:05 GMT; Path=/\r\n",
        "header: X-Frame-Options: SAMEORIGIN\r\n",
        "header: Vary: User-Agent,Accept-Encoding\r\n",
        "header: Content-Encoding: gzip\r\n",
        "header: Transfer-Encoding: chunked\r\n",
        "header: Content-Type: text/html;charset=UTF-8\r\n",
        "header: Connection: close\r\n",
        "send:"
       ]
      },
      {
       "output_type": "stream",
       "stream": "stdout",
       "text": [
        " 'GET /jobs?q=python+developer&l=chicago%2C+il&start=10 HTTP/1.1\\r\\nHost: www.indeed.com\\r\\nUser-Agent: Mozilla/5.0 (X11; U; Linux i686; en-US; rv:1.9.0.1) Gecko/2008071615 Fedora/3.0.1-1.fc9 Firefox/3.0.1\\r\\nCookie: BIGipServerjob_ord=3254855690.20480.0000; RQ=\"q=python+developer&l=chicago%2C+il\"; INDEED_CSRF_TOKEN=PX5xyMZmRCu4ceXSvYRzaUxNqeCrVBwB; JSESSIONID=E11007EA4BEA457A16FBEE217E784FE0.jasxA_ord-job14; UD=\"ID=4de24d87dc9b1c01:AK=dd616958bd9ddc12:CV=1389508414:LA=1389508414:TS=1389508414:SG=f0f5a0380bade50576ad3ceeb6f9b219\"; DCT=8; PREF=\"ID=da5a306fedcb7f0a:TM=1389508414:NW=1:JF=1:L=chicago%2C+il\"; ctkgen=1; CTK=18e2ifint1a1i1fv\\r\\nConnection: close\\r\\nAccept-Encoding: gzip\\r\\n\\r\\n'\n",
        "reply:"
       ]
      },
      {
       "output_type": "stream",
       "stream": "stdout",
       "text": [
        " 'HTTP/1.1 301 Moved Permanently\\r\\n'\n",
        "header: Date: Sun, 12 Jan 2014 06:33:35 GMT\r\n",
        "header: Server: Apache\r\n",
        "header: Location: http://www.indeed.com/jobs?q=python+developer&l=chicago,+il&start=10\r\n",
        "header: Vary: User-Agent\r\n",
        "header: Transfer-Encoding: chunked\r\n",
        "header: Content-Type: text/plain; charset=UTF-8\r\n",
        "header: Connection: close\r\n",
        "send:"
       ]
      },
      {
       "output_type": "stream",
       "stream": "stdout",
       "text": [
        " 'GET /jobs?q=python+developer&l=chicago,+il&start=10 HTTP/1.1\\r\\nHost: www.indeed.com\\r\\nUser-Agent: Mozilla/5.0 (X11; U; Linux i686; en-US; rv:1.9.0.1) Gecko/2008071615 Fedora/3.0.1-1.fc9 Firefox/3.0.1\\r\\nCookie: BIGipServerjob_ord=3254855690.20480.0000; RQ=\"q=python+developer&l=chicago%2C+il\"; INDEED_CSRF_TOKEN=PX5xyMZmRCu4ceXSvYRzaUxNqeCrVBwB; JSESSIONID=E11007EA4BEA457A16FBEE217E784FE0.jasxA_ord-job14; UD=\"ID=4de24d87dc9b1c01:AK=dd616958bd9ddc12:CV=1389508414:LA=1389508414:TS=1389508414:SG=f0f5a0380bade50576ad3ceeb6f9b219\"; DCT=8; PREF=\"ID=da5a306fedcb7f0a:TM=1389508414:NW=1:JF=1:L=chicago%2C+il\"; ctkgen=1; CTK=18e2ifint1a1i1fv\\r\\nConnection: close\\r\\nAccept-Encoding: gzip\\r\\n\\r\\n'\n",
        "reply:"
       ]
      },
      {
       "output_type": "stream",
       "stream": "stdout",
       "text": [
        " 'HTTP/1.1 200 OK\\r\\n'\n",
        "header: Date: Sun, 12 Jan 2014 06:33:36 GMT\r\n",
        "header: Server: Apache\r\n",
        "header: Set-Cookie: RQ=\"q=python+developer&l=chicago%2C+il\"; Version=1; Max-Age=2592000; Expires=Tue, 11-Feb-2014 06:33:36 GMT; Path=/\r\n",
        "header: Set-Cookie: UD=\"ID=4de24d87dc9b1c01:AK=dd616958bd9ddc12:CV=1389508414:LA=1389508416:TS=1389508414:SG=d0a331bc6cacbd5d36ae69114f3ac0ec\"; Version=1; Max-Age=536870911; Expires=Fri, 17-Jan-2031 01:22:07 GMT; Path=/\r\n",
        "header: X-Frame-Options: SAMEORIGIN\r\n",
        "header: Vary: User-Agent,Accept-Encoding\r\n",
        "header: Content-Encoding: gzip\r\n",
        "header: Transfer-Encoding: chunked\r\n",
        "header: Content-Type: text/html;charset=UTF-8\r\n",
        "header: Connection: close\r\n",
        "send:"
       ]
      },
      {
       "output_type": "stream",
       "stream": "stdout",
       "text": [
        " 'GET /jobs?q=python+developer&l=chicago%2C+il&start=20 HTTP/1.1\\r\\nHost: www.indeed.com\\r\\nUser-Agent: Mozilla/5.0 (X11; U; Linux i686; en-US; rv:1.9.0.1) Gecko/2008071615 Fedora/3.0.1-1.fc9 Firefox/3.0.1\\r\\nCookie: BIGipServerjob_ord=3254855690.20480.0000; RQ=\"q=python+developer&l=chicago%2C+il\"; INDEED_CSRF_TOKEN=PX5xyMZmRCu4ceXSvYRzaUxNqeCrVBwB; JSESSIONID=E11007EA4BEA457A16FBEE217E784FE0.jasxA_ord-job14; UD=\"ID=4de24d87dc9b1c01:AK=dd616958bd9ddc12:CV=1389508414:LA=1389508416:TS=1389508414:SG=d0a331bc6cacbd5d36ae69114f3ac0ec\"; DCT=8; PREF=\"ID=da5a306fedcb7f0a:TM=1389508414:NW=1:JF=1:L=chicago%2C+il\"; ctkgen=1; CTK=18e2ifint1a1i1fv\\r\\nConnection: close\\r\\nAccept-Encoding: gzip\\r\\n\\r\\n'\n",
        "reply:"
       ]
      },
      {
       "output_type": "stream",
       "stream": "stdout",
       "text": [
        " 'HTTP/1.1 301 Moved Permanently\\r\\n'\n",
        "header: Date: Sun, 12 Jan 2014 06:33:37 GMT\r\n",
        "header: Server: Apache\r\n",
        "header: Location: http://www.indeed.com/jobs?q=python+developer&l=chicago,+il&start=20\r\n",
        "header: Vary: User-Agent\r\n",
        "header: Transfer-Encoding: chunked\r\n",
        "header: Content-Type: text/plain; charset=UTF-8\r\n",
        "header: Connection: close\r\n",
        "send:"
       ]
      },
      {
       "output_type": "stream",
       "stream": "stdout",
       "text": [
        " 'GET /jobs?q=python+developer&l=chicago,+il&start=20 HTTP/1.1\\r\\nHost: www.indeed.com\\r\\nUser-Agent: Mozilla/5.0 (X11; U; Linux i686; en-US; rv:1.9.0.1) Gecko/2008071615 Fedora/3.0.1-1.fc9 Firefox/3.0.1\\r\\nCookie: BIGipServerjob_ord=3254855690.20480.0000; RQ=\"q=python+developer&l=chicago%2C+il\"; INDEED_CSRF_TOKEN=PX5xyMZmRCu4ceXSvYRzaUxNqeCrVBwB; JSESSIONID=E11007EA4BEA457A16FBEE217E784FE0.jasxA_ord-job14; UD=\"ID=4de24d87dc9b1c01:AK=dd616958bd9ddc12:CV=1389508414:LA=1389508416:TS=1389508414:SG=d0a331bc6cacbd5d36ae69114f3ac0ec\"; DCT=8; PREF=\"ID=da5a306fedcb7f0a:TM=1389508414:NW=1:JF=1:L=chicago%2C+il\"; ctkgen=1; CTK=18e2ifint1a1i1fv\\r\\nConnection: close\\r\\nAccept-Encoding: gzip\\r\\n\\r\\n'\n",
        "reply:"
       ]
      },
      {
       "output_type": "stream",
       "stream": "stdout",
       "text": [
        " 'HTTP/1.1 200 OK\\r\\n'\n",
        "header: Date: Sun, 12 Jan 2014 06:33:37 GMT\r\n",
        "header: Server: Apache\r\n",
        "header: Set-Cookie: RQ=\"q=python+developer&l=chicago%2C+il\"; Version=1; Max-Age=2592000; Expires=Tue, 11-Feb-2014 06:33:37 GMT; Path=/\r\n",
        "header: Set-Cookie: UD=\"ID=4de24d87dc9b1c01:AK=dd616958bd9ddc12:CV=1389508414:LA=1389508417:TS=1389508414:SG=e24c66f6efdac3683d0fef7b2107482f\"; Version=1; Max-Age=536870911; Expires=Fri, 17-Jan-2031 01:22:08 GMT; Path=/\r\n",
        "header: X-Frame-Options: SAMEORIGIN\r\n",
        "header: Vary: User-Agent,Accept-Encoding\r\n",
        "header: Content-Encoding: gzip\r\n",
        "header: Transfer-Encoding: chunked\r\n",
        "header: Content-Type: text/html;charset=UTF-8\r\n",
        "header: Connection: close\r\n",
        "send:"
       ]
      },
      {
       "output_type": "stream",
       "stream": "stdout",
       "text": [
        " 'GET /jobs?q=python+developer&l=chicago%2C+il&start=30 HTTP/1.1\\r\\nHost: www.indeed.com\\r\\nUser-Agent: Mozilla/5.0 (X11; U; Linux i686; en-US; rv:1.9.0.1) Gecko/2008071615 Fedora/3.0.1-1.fc9 Firefox/3.0.1\\r\\nCookie: BIGipServerjob_ord=3254855690.20480.0000; RQ=\"q=python+developer&l=chicago%2C+il\"; INDEED_CSRF_TOKEN=PX5xyMZmRCu4ceXSvYRzaUxNqeCrVBwB; JSESSIONID=E11007EA4BEA457A16FBEE217E784FE0.jasxA_ord-job14; UD=\"ID=4de24d87dc9b1c01:AK=dd616958bd9ddc12:CV=1389508414:LA=1389508417:TS=1389508414:SG=e24c66f6efdac3683d0fef7b2107482f\"; DCT=8; PREF=\"ID=da5a306fedcb7f0a:TM=1389508414:NW=1:JF=1:L=chicago%2C+il\"; ctkgen=1; CTK=18e2ifint1a1i1fv\\r\\nConnection: close\\r\\nAccept-Encoding: gzip\\r\\n\\r\\n'\n",
        "reply:"
       ]
      },
      {
       "output_type": "stream",
       "stream": "stdout",
       "text": [
        " 'HTTP/1.1 301 Moved Permanently\\r\\n'\n",
        "header: Date: Sun, 12 Jan 2014 06:33:38 GMT\r\n",
        "header: Server: Apache\r\n",
        "header: Location: http://www.indeed.com/jobs?q=python+developer&l=chicago,+il&start=30\r\n",
        "header: Vary: User-Agent\r\n",
        "header: Transfer-Encoding: chunked\r\n",
        "header: Content-Type: text/plain; charset=UTF-8\r\n",
        "header: Connection: close\r\n",
        "send:"
       ]
      },
      {
       "output_type": "stream",
       "stream": "stdout",
       "text": [
        " 'GET /jobs?q=python+developer&l=chicago,+il&start=30 HTTP/1.1\\r\\nHost: www.indeed.com\\r\\nUser-Agent: Mozilla/5.0 (X11; U; Linux i686; en-US; rv:1.9.0.1) Gecko/2008071615 Fedora/3.0.1-1.fc9 Firefox/3.0.1\\r\\nCookie: BIGipServerjob_ord=3254855690.20480.0000; RQ=\"q=python+developer&l=chicago%2C+il\"; INDEED_CSRF_TOKEN=PX5xyMZmRCu4ceXSvYRzaUxNqeCrVBwB; JSESSIONID=E11007EA4BEA457A16FBEE217E784FE0.jasxA_ord-job14; UD=\"ID=4de24d87dc9b1c01:AK=dd616958bd9ddc12:CV=1389508414:LA=1389508417:TS=1389508414:SG=e24c66f6efdac3683d0fef7b2107482f\"; DCT=8; PREF=\"ID=da5a306fedcb7f0a:TM=1389508414:NW=1:JF=1:L=chicago%2C+il\"; ctkgen=1; CTK=18e2ifint1a1i1fv\\r\\nConnection: close\\r\\nAccept-Encoding: gzip\\r\\n\\r\\n'\n",
        "reply:"
       ]
      },
      {
       "output_type": "stream",
       "stream": "stdout",
       "text": [
        " 'HTTP/1.1 200 OK\\r\\n'\n",
        "header: Date: Sun, 12 Jan 2014 06:33:38 GMT\r\n",
        "header: Server: Apache\r\n",
        "header: Set-Cookie: RQ=\"q=python+developer&l=chicago%2C+il\"; Version=1; Max-Age=2592000; Expires=Tue, 11-Feb-2014 06:33:38 GMT; Path=/\r\n",
        "header: Set-Cookie: UD=\"ID=4de24d87dc9b1c01:AK=dd616958bd9ddc12:CV=1389508414:LA=1389508418:TS=1389508414:SG=52b78456eacc1b985d6b67fda1a90e1c\"; Version=1; Max-Age=536870911; Expires=Fri, 17-Jan-2031 01:22:09 GMT; Path=/\r\n",
        "header: X-Frame-Options: SAMEORIGIN\r\n",
        "header: Vary: User-Agent,Accept-Encoding\r\n",
        "header: Content-Encoding: gzip\r\n",
        "header: Transfer-Encoding: chunked\r\n",
        "header: Content-Type: text/html;charset=UTF-8\r\n",
        "header: Connection: close\r\n",
        "send:"
       ]
      },
      {
       "output_type": "stream",
       "stream": "stdout",
       "text": [
        " 'GET /jobs?q=python+developer&l=chicago%2C+il&start=40 HTTP/1.1\\r\\nHost: www.indeed.com\\r\\nUser-Agent: Mozilla/5.0 (X11; U; Linux i686; en-US; rv:1.9.0.1) Gecko/2008071615 Fedora/3.0.1-1.fc9 Firefox/3.0.1\\r\\nCookie: BIGipServerjob_ord=3254855690.20480.0000; RQ=\"q=python+developer&l=chicago%2C+il\"; INDEED_CSRF_TOKEN=PX5xyMZmRCu4ceXSvYRzaUxNqeCrVBwB; JSESSIONID=E11007EA4BEA457A16FBEE217E784FE0.jasxA_ord-job14; UD=\"ID=4de24d87dc9b1c01:AK=dd616958bd9ddc12:CV=1389508414:LA=1389508418:TS=1389508414:SG=52b78456eacc1b985d6b67fda1a90e1c\"; DCT=8; PREF=\"ID=da5a306fedcb7f0a:TM=1389508414:NW=1:JF=1:L=chicago%2C+il\"; ctkgen=1; CTK=18e2ifint1a1i1fv\\r\\nConnection: close\\r\\nAccept-Encoding: gzip\\r\\n\\r\\n'\n",
        "reply:"
       ]
      },
      {
       "output_type": "stream",
       "stream": "stdout",
       "text": [
        " 'HTTP/1.1 301 Moved Permanently\\r\\n'\n",
        "header: Date: Sun, 12 Jan 2014 06:33:38 GMT\r\n",
        "header: Server: Apache\r\n",
        "header: Location: http://www.indeed.com/jobs?q=python+developer&l=chicago,+il&start=40\r\n",
        "header: Vary: User-Agent\r\n",
        "header: Transfer-Encoding: chunked\r\n",
        "header: Content-Type: text/plain; charset=UTF-8\r\n",
        "header: Connection: close\r\n",
        "send:"
       ]
      },
      {
       "output_type": "stream",
       "stream": "stdout",
       "text": [
        " 'GET /jobs?q=python+developer&l=chicago,+il&start=40 HTTP/1.1\\r\\nHost: www.indeed.com\\r\\nUser-Agent: Mozilla/5.0 (X11; U; Linux i686; en-US; rv:1.9.0.1) Gecko/2008071615 Fedora/3.0.1-1.fc9 Firefox/3.0.1\\r\\nCookie: BIGipServerjob_ord=3254855690.20480.0000; RQ=\"q=python+developer&l=chicago%2C+il\"; INDEED_CSRF_TOKEN=PX5xyMZmRCu4ceXSvYRzaUxNqeCrVBwB; JSESSIONID=E11007EA4BEA457A16FBEE217E784FE0.jasxA_ord-job14; UD=\"ID=4de24d87dc9b1c01:AK=dd616958bd9ddc12:CV=1389508414:LA=1389508418:TS=1389508414:SG=52b78456eacc1b985d6b67fda1a90e1c\"; DCT=8; PREF=\"ID=da5a306fedcb7f0a:TM=1389508414:NW=1:JF=1:L=chicago%2C+il\"; ctkgen=1; CTK=18e2ifint1a1i1fv\\r\\nConnection: close\\r\\nAccept-Encoding: gzip\\r\\n\\r\\n'\n",
        "reply:"
       ]
      },
      {
       "output_type": "stream",
       "stream": "stdout",
       "text": [
        " 'HTTP/1.1 200 OK\\r\\n'\n",
        "header: Date: Sun, 12 Jan 2014 06:33:39 GMT\r\n",
        "header: Server: Apache\r\n",
        "header: Set-Cookie: RQ=\"q=python+developer&l=chicago%2C+il\"; Version=1; Max-Age=2592000; Expires=Tue, 11-Feb-2014 06:33:39 GMT; Path=/\r\n",
        "header: Set-Cookie: UD=\"ID=4de24d87dc9b1c01:AK=dd616958bd9ddc12:CV=1389508414:LA=1389508419:TS=1389508414:SG=e5b2b473585582e7965bd3b6cbe35a71\"; Version=1; Max-Age=536870911; Expires=Fri, 17-Jan-2031 01:22:10 GMT; Path=/\r\n",
        "header: X-Frame-Options: SAMEORIGIN\r\n",
        "header: Vary: User-Agent,Accept-Encoding\r\n",
        "header: Content-Encoding: gzip\r\n",
        "header: Transfer-Encoding: chunked\r\n",
        "header: Content-Type: text/html;charset=UTF-8\r\n",
        "header: Connection: close\r\n"
       ]
      }
     ],
     "prompt_number": 44
    },
    {
     "cell_type": "code",
     "collapsed": false,
     "input": [
      "job_elements"
     ],
     "language": "python",
     "metadata": {},
     "outputs": [
      {
       "metadata": {},
       "output_type": "pyout",
       "prompt_number": 45,
       "text": [
        "[{'company': u'Sleepy Giant',\n",
        "  'date': u'30+ days ago',\n",
        "  'link': 'http://www.indeed.com/pagead/clk?mo=r&ad=-6NYlbfkN0A59i7xOu-skuX_VntbjAd1KgCpSvc5b7o401xw_0dVp1ANZAbIC7-j0vglFlRyMMRMJ6953YojMryywc9EcJOvn-08pwH3E14XQkou2xGku4jNGdA3PEB1Kv4b55XVRIb_W713yOJEqjohWojWZlNV9BBWx7AhYF0v-x8F9Z1pBYnNheD8siR_B6sEH8nypCWhrTwC6FRlHXjIFgZo2LAIxaCSP5wKEF6cLt54vfaXOno2LGEil6OI8aYLF_laY38AiDEvX0HxggX5x5Aj4lxk7FXRpumYlOZKwInT2NEvgb_pX6VyuSbvZCITlOurUAy6HNqW-uj4_MwVplap-xhnQi8oqNj3n8KNnUrS6a5hHAO8nBG-oUy7kmOjseneyZUDkg92dfuSmwdZbyogtmIcFNUfwdgT3LpvhztJ5l0OPhJr1bCABf84h_6__WEt9tkzqZIvIMpRGdm3nmZLyULMNK-FP3hB2MJ4prMXU6a3z_8H23PeU2UZ&p=1&sk=46e54bc9d17bcf09',\n",
        "  'location': u'Chicago, IL',\n",
        "  'title': 'DevOps Engineer'},\n",
        " {'company': u'XR Trading LLC',\n",
        "  'date': u'22 days ago',\n",
        "  'link': 'http://www.indeed.com/pagead/clk?mo=r&ad=-6NYlbfkN0Dd-Ph_PooDch8eCFsojtXHi-LISBeyNNzij-wgnEQ2kLN3BpX7wVUbHQNU-rB_rwZeKBahNz56wHNc1U6W489hV-H7w1lM2rJ02S079TKZA1oOi3wPj80LdChcLrRiILzYKilMMvkwD5A-mKNHumclSU1Q6uTW5TUPrGNROETP2l-PZjRsFuwCeN42KS8Wzf7NaM9p4RcTTQlgNPenSxJFaWzjYrcoOXfZYDnVP1wbLN8W7fDTU0gwJqEI5mp_UlBHx5mlmoDOoNlJgXsNQY2u-LBDSmq2SvuNvrgSxT3CBKrKXFjCyaRwdqG_G0pk4tt_di3qmWiUiZO7cEHxWP3cwTRKeTKJjwivRI94rwLopuA5qwzyrWD1dJQ-UdpzrVlJTEPCUewr1bcyLWIPOjr4SF10gyb5kMQCrLyWUyfntJruTHk3utKUF_zvB-Z4JyMxlcQ9cE6jpPDHYYdRpqQQ_bczb71ngrBlTKKOV_DkJOgIFt69VlTjYZGW8pS9Dw8M8XVt_stB8A9c7leiy7mPK6WVFagOi87-UXXpgXAz-A==&p=2&sk=46e54bc9d17bcf09',\n",
        "  'location': u'Chicago, IL',\n",
        "  'title': 'Quantitative Developer'},\n",
        " {'company': u'HERE',\n",
        "  'date': u'24 days ago',\n",
        "  'link': 'http://www.indeed.com/pagead/clk?mo=r&ad=-6NYlbfkN0BYFTMh2KRwuVtVjzQLYXmh4Ms_i-mgE2VLiPSaNKov0bYLgaUpV8eqbJSc_M0Mww_D06wViU06T-LW03EqRz9_LBtCJR5V3n7bW84ctU6vCwuLEkHqa3DbDhwKkhtWnDMZ7OlqWV5o1VqxPLFhPe1pIPngbn2XCdiCwlVaCuO7n0UkxpeQS0AsgHiy_-XiA8d4cjeRrTaKhXsQ5mhM-jij7pW-UaNRSSBQ8sgtuGnN7MENglXWzVwMcJ3ilK24L-IBM8cfsVdw94eXZH3iM4bWSSilRuvPDesozS8DKC1eZbiC0Vq-4EPQ14NC4k6JYWnR6CGcylibwLG40r7pkj3B-sSuogktgXzOMgVhzrnCVHqbhY0Wprf5V1yX8KcxOSh4WW6Y0Y7L-0ItNhU-nD2M6_qWINADH1pLv9h4c76dXqppIuIAySzb&p=3&sk=46e54bc9d17bcf09',\n",
        "  'location': u'Chicago, IL',\n",
        "  'title': 'DevOps Engineer'},\n",
        " {'company': u'Paul May and Associates',\n",
        "  'date': u'1 day ago',\n",
        "  'link': 'http://www.indeed.com/pagead/clk?mo=r&ad=-6NYlbfkN0AtmmgL-6xvNJ2TgfBOZULzFUyk3B45PtfzaCI94ECTxHNl8hB_n5YxoPt3_yegDSXfEQx673TICUG8EFMtw1wEUiGhQf-zJHF_cYlIz8HOfz6diezPXOkJw8JIIB_90HBzWj3O67a8Qi9WZMHeRrrUHWXOfco_90uF5-NtwNiVXUTgPbRqbF3MpWqbpCBb6dVdoCyaModhx6HBZXE2hIoStegEXJ2aWWA_VteMbW5tvz6MiWbar9JOoBo3vS8KGRTCqdYyZd42hW0uxsdU2sTOzYPvhIREBZjOyzz8nPAqLG2A-8MvFNDXmijOcGzLGNiTfmVFApSoA9_cQgAoqZFOMgHKOURhIavZ19En83wATvG5Gv6Qn_cttfhExxB3MxHLHXjkLCKFaKp4uEggQ__EsfMF6qE_tiUgBHRBcuohW2BNBdKB-F6b3bANirQEW0JBA5mJ58RWktF94tibAvMPfKcLy6cgou4oTRjyDviUi26hKWbuQJC-A9K8zQL_x9QiSTR99RzgPXOe3kSf2DVjKRzrfBgDMROg_UOE81F0OrN8DXiTHpc8rLpEMN8qqrKzVXrwjASSV0do6ZDLe1Xr7veDGX2kMrk=&p=4&sk=46e54bc9d17bcf09',\n",
        "  'location': u'Deerfield, IL',\n",
        "  'title': 'Python Web Developer'},\n",
        " {'company': u'CyberCoders',\n",
        "  'date': u'24 days ago',\n",
        "  'link': 'http://www.indeed.com/pagead/clk?mo=r&ad=-6NYlbfkN0Dfz_zhh1PhVn_68lwFaODUSFK2hQ1ZH73lhEFH2GG8mX_XGDEsW8lcgNFVGN7v75RJnQEDtU3iVFYkZkbJowHLnN-Iga86Vw_z6OkvloGO5lk1Tn486Up2hcyccQBWsFU-rsm7FutFdHS2lW2LVgoy3gZ4WKbvuEwf7jsB7VmypyNe1jl3jByXg3vgtB5E7GDuw9gKOz-aYNhytSBT6RKJXRcuuO-_4sGEA5yl831iXZf3NNA7m-EQ3OtIiN6B0m9pEc9S4Q2zKLkesBpgNawcdJ0g11IuIdFooVK3QvVaF3aELEkg7_DfdB-vBp0d2Jn-H6Mvv63LzkOuBae6K04Bnm_fjlNycUuF0aqYmdXKZYumV7oL16DgvPP-04QpVjwEnJ2Q_sY8Diu02OyeJSDjjaV13FurIIYUX6IYKdkAK98EX_IeWfyo-YZAmtQ1VNzq125ZafsfCeGfOReIbGfXMBnUZ33essk=&p=5&sk=46e54bc9d17bcf09',\n",
        "  'location': u'Chicago, IL',\n",
        "  'title': 'Software Developer'},\n",
        " [{'company': u'Paradigm Technology',\n",
        "   'date': u'18 days ago',\n",
        "   'link': 'http://www.indeed.com/pagead/clk?mo=r&ad=-6NYlbfkN0DUnwefsF7K5sI9KMOiuTab93Tl5aV87o5poBYEvjEbgPyqsyrigW8ZPubpOimuc1hiNVHeDsgdaaduoJtHxB8rHDj7sq2z6_i_fdBnE8PKxM_Wh7nWMVhBY1czkUEQFSHALTdIku98O-XnHgvo8MhfTJ-W66BBbRf0uug-Xsb452nYFALXjH7vk-LQR_zfpCfpbG48CRQttuNCd377hnOzXqHd90DrTGUpVzqAZqXCvqIuJ2YBGNsLAi-2zOr8hC1s2_udxcVNXrVgWZxene27G8l5blMA1RfBD2_Mh-9n9mzewz6hUKX9YTQt3zHEgDD9h4lkAQti_ol3xjvol3_OWt9xo3j0_hW-hCmLn5trZeBiAsa_65twO9Bnm-ncfVJDVoyOPyrEYOh1rJZg3pzi3aN6BYP_ogceyaURIsY58T_7acxezmYn2ww1p445cUhZmGcbAfEA6uRHPya5p3ZvVwU1TVbsNIggaJHnqxcnP4wFE3ub4He61mCAGjwhIVaVEgfHaOSFwykHTjHqeG_8j4cj_gz5YoaaF94zPJgT3ZZbrakEFlVN-P5XApsFgc5XgDY8Lzj11uVYorX47QreJ564CLeeZYxFDQpegDdWkp-B9MoW4AUSO2Y3Vy2ie4qqN-wTb06jjZ1rEx7dSzzlU6KCiQB-2AZT33dHIwzMO4tV61J31sqk&p=1&sk=46e54bc9d17bcf09',\n",
        "   'location': u'Chicago, IL',\n",
        "   'title': 'Web Developer (Backend & UI)'},\n",
        "  {'company': u'HERE',\n",
        "   'date': u'24 days ago',\n",
        "   'link': 'http://www.indeed.com/pagead/clk?mo=r&ad=-6NYlbfkN0BYFTMh2KRwuVtVjzQLYXmh4Ms_i-mgE2VLiPSaNKov0bYLgaUpV8eqbJSc_M0Mww_D06wViU06T4XjgrqrzR6ZYlJfgmSR54AkFVrgfTDCWZThR-l71J8RAGg7FnlN9cfQ0n7VIWA6AFoTaywmodsXbQdpgAB0B2MRHYESKA6tuYzE-4tvrIKl70s-SDFEJ5cZYuEnPakuYHk5JCyGlfLchebzRnf65VmiIy9XHTlzP3c9WibsK0yYqOzOi6zhOlRRYxuUi1Yur8HFbBnvSN3bjU8CWmp7rKyeKlolKaq94EybKYW8CJ06VmGXv0BAB76UoXPA_EkP_KwTbgC-fdUm7Czzoog3Uol5JZ81-vvwtHi0JwhoZpCVhRFBfJdGzahVQirBrfGW2ikKJfZem2zrVov8toLgjBupT-vI13LpuFNS_S4pNjAz&p=2&sk=46e54bc9d17bcf09',\n",
        "   'location': u'Chicago, IL',\n",
        "   'title': 'DevOps Engineer'},\n",
        "  {'company': u'Systems Pros Inc.',\n",
        "   'date': u'3 days ago',\n",
        "   'link': 'http://www.indeed.com/pagead/clk?mo=r&ad=-6NYlbfkN0DUnwefsF7K5sI9KMOiuTab93Tl5aV87o5poBYEvjEbgPyqsyrigW8ZPubpOimuc1i8BdweR5k0nRlKZ9e6Q74iH45rYKhYJGz186sPIUejyIet1NOzQMrKaSi-2DTVw7Yv09hFnZsF1lNL9C9TL1IjVsW_RO5jM7Udwk3q3e1jmzDgKmHQTelI0blaXOJnhLq6XKdD1EDinx3NfnE5QwqQjRRr0u3n66ALs2Wgczga2XpvR--2Ki2teOXOBialXISm8C9lzxXcPUC99upAr0bCuy-aHAPAqf73x5mlag2Zge1oI7fFSAEgoNxaJQunDKdsjMChx6WJJIjdCO8Pb_N6a7B-knnh5q7gS7SgTi7aAXMkSvcJFnZFnHphMNOBP7aA-6E9IDC4FNK_mj6KxLwiip-bCE5ofPyaKbdVXgq2GljF1uKXFY--eQ_JDYUs1sTeM5-cR-iKZMFhdpqJaDNeAPiuTmdw9rg0oAOMuPLiyOspc_el-6GmINlpAYOyBJCT-nklmZZnSJw7yAKgVGz1yFD__OLllpMZhMH2vuNRMN-CM3KX1JkPj9PKd63G4jKOhCm9E0q718vs9ntI4m7B1OBHp8LGVcVzkN9pnO17rdHD4YkVbksOwA30zsiF0-kAJCpncx0gJJR3tpizFTGhp_k_uvdjZuDhaJyqnnGBzBQSRFTwSk88&p=3&sk=46e54bc9d17bcf09',\n",
        "   'location': u'Chicago, IL',\n",
        "   'title': 'Web Developer'},\n",
        "  {'company': u'XR Trading LLC',\n",
        "   'date': u'22 days ago',\n",
        "   'link': 'http://www.indeed.com/pagead/clk?mo=r&ad=-6NYlbfkN0Dd-Ph_PooDch8eCFsojtXHi-LISBeyNNzij-wgnEQ2kLN3BpX7wVUbHQNU-rB_rwZeKBahNz56wHNc1U6W489huhOJOJQgic6jcrHmR3XVgYEGG_tIfpaEGllMObxhqYKstyYGQWZiwJqxvL1bJDHwFCf1-17dnTG6dbcABvi08n8Vq72t_wd4XS-SdfByA9coUUzLR1149eA8A3nRzqroNWakDcHWzY5IcKi_pPcDEmmPwEbM5cVDi6wbaVJiuRT6Y4cQlVBD1muimhOr4FSgZ03JHaBhivtLT9D_jX9GvpjU5Q_V6eAdvjZPT_jhRBe41Euznd0oFfsg8uO-zNW_kQuM1QjgIDJBAmyfi5CzUScEJP9KHc79PMvd2QvJwGfbWAKvtRdnE-NaIlutEK4t-oHK7dFkyoHExiNqQVtVSYkXVToHmOEULRTOEz4BsHHU8Fzp-L7F1vXcaVRL-LDTwXIS35hH1cRACx68qn_B4MgPWm8DerWjaQZkIB1y0PV7Wzb70jr7GTyAPDWDFJtRILNs4Xoq_DtsfCB5YR2VOg==&p=4&sk=46e54bc9d17bcf09',\n",
        "   'location': u'Chicago, IL',\n",
        "   'title': 'Quantitative Developer'},\n",
        "  {'company': u'Sleepy Giant',\n",
        "   'date': u'30+ days ago',\n",
        "   'link': 'http://www.indeed.com/pagead/clk?mo=r&ad=-6NYlbfkN0A59i7xOu-skuX_VntbjAd1KgCpSvc5b7o401xw_0dVp1ANZAbIC7-j0vglFlRyMMRMJ6953YojMrt0pXARmc0AOZpI1OCIEjMZ-I2LarVdFnY2-7TyrD2fA0I7wI1chprsnyojC1QxB2pE0yRzBZ1gY1TKNixVmz6ArgtCv0UlOylo6L9S9w90ztSMgIv-NmayyF3Cf8NuN7bZd5kKhxYV8OeuxxZr-c50vqpgAM0kYjTMHktGyq_26g7IFxXyiANy3Tyu4vCE7DfYmnh8Sbtv92tDFc58AfJwZVDdRNbYxphO2k2l0ckDNNmd54YeD3VKKsqx73Ji3lBjdWahC6f560Qe7cAjVfzIbmxJeVkg__UBwniHQBTEXNBHRtzeVprRnG8rdRcwFMqKqnLQJgywbTyMssyIQZxu8zBfWXs57W2AEBq8IwfwHluvq7ARI0MpZamPkHhRkcz2fQNAMPaYY8RJkplgfsIiptin-9RXsLRIrq4U7ZGb&p=5&sk=46e54bc9d17bcf09',\n",
        "   'location': u'Chicago, IL',\n",
        "   'title': 'DevOps Engineer'}],\n",
        " [{'company': u'PwC',\n",
        "   'date': u'21 hours ago',\n",
        "   'link': 'http://www.indeed.com/pagead/clk?mo=r&ad=-6NYlbfkN0CPeaSTmtQmbWoYqSOOAe3aNsvUwwB-tSBTi1UPddGHlwnEGtO_rC2WzIT2MeTES4-9NpphCYzkKW3u8KTT8gkgiJZCdprUxTbKXr-oRtwC97adfqt75paZLnfy-_-sGmeEB2ix_ljOpfHVAMmNOC3Hj0XSOVrI6AU1939xHOqdGqH0f6tSlQ_9aOBLTwnohwoBCE2HOdhTNpG19eMQCFvXeYBNt1w9N6P8ZPn0LVq1PHqk2x37JkqkoZh3ePENLfFx6s43Uu6KvIsFb2v6ZmzmV2nQM3x1o0s3DSk6ZAAEDqM7AehkeL3bTgmhrYV_PZtvpt3Zq6WxDcJw7rypX2rkpBEPslyWlurIPCsPJWKq-J6qv7PoHKdcWnHNe3MqSoKtR_ntMelrHD4Fznb1E8VStI5KiA5zhwkL36uieFcNPyUAYQbyLPOvtUnrsHc7jVXy86fKjMrm11Kn5LgLViUuJTzBAxY5bDkrkxjysswxfMDnspo4YgUHKmeexg4RWpFyygif48kn1P44I4-ZtPZ7vdaYGPOd5DENchO6tZOGp7aZrwHutUm5RSN_8UQ5jpOA5emNr7zd2PIcTDDiwnKLqGcq7WdES5CPEegdlJQUwoiEyqs1mkmlBmxpItDEEX_8qK9uh9FaR7jKkMS4L5UA&p=1&sk=46e54bc9d17bcf09',\n",
        "   'location': u'Chicago, IL',\n",
        "   'title': 'Financial Services Advisory Salesforce.com Technology Sr Associate'},\n",
        "  {'company': u'Classified Ventures',\n",
        "   'date': u'5 days ago',\n",
        "   'link': 'http://www.indeed.com/pagead/clk?mo=r&ad=-6NYlbfkN0DUnwefsF7K5sI9KMOiuTab93Tl5aV87o5poBYEvjEbgMt4GWaJzkseYGO1ccfynmpvPRYYsZ3PAz_YXqPnZHwhZjSTHvoYRFup3ChWgcrfCndRA2yTRouPikaZCHhF-YDGtbfxZIfarxbJc5M4XohdkNS0EFGAfN2369_Zc4_yVn447rrlMNTe5-cex33bS9oxwvCJEzI6TaA-8ETB_Vl8vv8sawuaF8k4fWIJoczA2yJYcqgxyx920AX6wEOBu_rcDhbvWIR31mdaQPa-ZIUdwMnbv1rtehuCzUz_8p0GJQBuIaCEKeDNFWps7WdxH8xevG3DwMu3DyfWC3JQ7GHTuek2yWCTjvNkFSAgU4PmLGgOSNRKeZHY1lRWq1LxuNFkZZ1Fow4HEbd6YMKUo0QfceYfK3lwgKhDh2ZKtbz8gtLmKixNSUKJdpiMuhmdmes6nlwNK_xOrsyHgqkpiUBh0fE9p8HAWFxC7wtsZmA9bIXp5zhgEt0VPdCImb81dO-Ys50OkKzPeLXSoUC3UDnJhv1KGRnWYfMIL2tjD__MS50e4otQNiTYI6uhDx1FB_r3lkq5yPwEYEeHhbVHi_xx26JjwwS9avxForZH4yslOTtWA-OywgOJRvboXXaWl6BczOgB4QfodRpi6a9N5AhAOXW9zz-G8GDIJDXaEU5kNOj_Rx3kQ8D4&p=2&sk=46e54bc9d17bcf09',\n",
        "   'location': u'Chicago, IL',\n",
        "   'title': 'Senior Development Operations Engineer - Apartments.com (4137)'},\n",
        "  {'company': u'PwC',\n",
        "   'date': u'4 days ago',\n",
        "   'link': 'http://www.indeed.com/pagead/clk?mo=r&ad=-6NYlbfkN0CPeaSTmtQmbWoYqSOOAe3aNsvUwwB-tSBTi1UPddGHlwnEGtO_rC2Wh2qdn2FgrmV6FijHVYPxYKhfHrio5CcmAzG9c9gv4MNSTF2CySWtH5YWevoNtGS4ecVBJ1H1BSSz1rodV4b77_eKF70wjjmqlyzxSXCkvtDWFxG33-h310KKZy-rJLYTKVnx5NH-H1wImgcYM3_mosCXI-sBuAeob2u4ReTvrIxGiRfwo1EnSa9YUR-AJpePFr2VQ9ey2swb_m1tHTfDvff79OKh0ZjLq33z7ZxByCpxwqov1FpAqkt5EEgZFj90GFzxh9sXLVdN4d9vYFn296Vs7mJlfnwzYPdtYcoc3BUngMufH61YNQ8n_HSQypQd2tQl3Tv1ldlmhZUB5mHYGH3WKeRGVtKmfeAUvbuNmpO4_XHK6bY9K-SkGESJVJBG-shQ-n0pqVr3aLjZnTIj-HIRtgyYlU28XE_spIBClQ4r5ZdjiEP8XgvMea0yRvMK2tMNU8FXqUN0eKzQYPNl1XIU2Wg03DBmULP_pXyEfP35nvKssA0Kv8a_rNLjzbDaXT70ldyj7fp5SCx_ugX0pc2kLO3aDHgx9SGRopmvang=&p=3&sk=46e54bc9d17bcf09',\n",
        "   'location': u'Chicago, IL',\n",
        "   'title': 'Salesforce.com Senior Associate'},\n",
        "  {'company': u'XR Trading LLC',\n",
        "   'date': u'22 days ago',\n",
        "   'link': 'http://www.indeed.com/pagead/clk?mo=r&ad=-6NYlbfkN0Dd-Ph_PooDch8eCFsojtXHi-LISBeyNNzij-wgnEQ2kLN3BpX7wVUbHQNU-rB_rwZeKBahNz56wHNc1U6W489hWrzhoLmPJStpSAxC0EHtybAzFJbAw7sy0U1MsWoPbtoUVZbsNEPTii0yijxt_jeTjP8aHSkuthL8wfruffiYiRwd6nveBh1TlyT_dITDqxUZBX96LcPKik8IiFpVa2lKXZDbBCr687QQo1xa_ysS5628gp-wXpe-5iAqLf5RsDW5kEvhs1Mficmqa-C4RAXr5MijJQQyf1OckSdUIO3UBPdiOe20FAKhntv97XbP2qXhq217IGMcOEgGSP3o3jGSbfK4jL0mBqtdQqpB1p02sHJP_omWPKFTObjp26V5RbFhRh7Tl20f7PUom529nj2OVF2alb1Pko4HSKqkibSUbHHUw8Hf7a_ZDLDrembR2nVFayVwq3iY5OLptitRg5z9wsCXg96FEaNkgla96pJllzu4ln7va3CCgEysZCqt2eGSv403YwSUEphJ3JrA20VjrO3ZF-xu-o6pbv_g1hTgVA==&p=4&sk=46e54bc9d17bcf09',\n",
        "   'location': u'Chicago, IL',\n",
        "   'title': 'Quantitative Developer'},\n",
        "  {'company': u'Sleepy Giant',\n",
        "   'date': u'30+ days ago',\n",
        "   'link': 'http://www.indeed.com/pagead/clk?mo=r&ad=-6NYlbfkN0A59i7xOu-skuX_VntbjAd1KgCpSvc5b7o401xw_0dVp1ANZAbIC7-j0vglFlRyMMRMJ6953YojMlzbS8exElrEFZqP8P1OZr7o9NiOpvSR9ryN0HNfzMWbHozljxCnKVLYKXSd519kkBg_FgBtaxOho6Zfh1RiYOQpJQYVUA-IXcmdBqGx_He8WRtzzJ6jLM7rL_UNfxZWtMG3nEHxBcDpFql__9xfXAR4E32iQveJkHURMDUe1CO64cu3wflQz94yuiiC2BxQadA7khkbPGp8Pf8hHWtqoxWUsziKOHB_IiZfpY2xAvoa9T6qn2luJnOA3ixUZ0y84q0O6Y-2JJJ6_ry4snLzMOSpS5tT7INmWWFgAVcMjA0_EMMcS3-YOu3wL0b0JNWX_3ztfdnYhBZd-1-8ngnpP428D2ZDlWMU3NNuHXcriJRAa2lZW1P844tR9U7QILUqt_78lC8buXF9b-tgxVN0e0l0T-9BKPGitQ==&p=5&sk=46e54bc9d17bcf09',\n",
        "   'location': u'Chicago, IL',\n",
        "   'title': 'DevOps Engineer'}],\n",
        " [{'company': u'Hagerty Consulting',\n",
        "   'date': u'20 days ago',\n",
        "   'link': 'http://www.indeed.com/pagead/clk?mo=r&ad=-6NYlbfkN0BBl2ENn443WOdNQJoYlixYtCAbRIKoXTBQSnuptyErTH8fEWnzevquv_taxtvh8CYPp4zA6PbHLAJoZoVE84BIGfVHXZHJrVXCh9fp8ZIfiWwpHlDj998MPKltRdblidQGucpc-ihBqUlcpAE3iGWC7GOzQ6vBIpESZC_ztfnlj0gyEvM_ePUiFc5ia03z5z2RpSXsz50g-LUwDbAkueQismZWX-TqQEp4yUT053DylAJl6fqkhKxZ_TsglbfvuuzTxz6hsleJLbWafb4HkzAsRUKhT8fWRmiw8sRZR8QzUgKdkXep_L-oMDnunOetLP-KvDn1P-_wl_jfIfrJxrByV-bTZl_Cu3nYqww3uX56W7BOhIFGwfyp8RLoZrFb9ZKWXf0yJG4RQPX_DoYPeJ7L5vixKCX1Jo7WoslcJeYw3_okTdjyPXcnBoUTHFCPqEk=&p=1&sk=46e54bc9d17bcf09',\n",
        "   'location': u'Evanston, IL',\n",
        "   'title': 'Javascript Interface Developer'},\n",
        "  {'company': u'TEKsystems',\n",
        "   'date': u'4 days ago',\n",
        "   'link': 'http://www.indeed.com/pagead/clk?mo=r&ad=-6NYlbfkN0CMxVCeK1gSLmWz_R_ldlreBiFBB2FWxG6Yr-AHydp3rPZ04GEzAaglIdJwe3XF53nU95oN04XHzY23sgheI2GpSntraM7ABmafQbHxUTJCcpw1rxYMDPdiPc7SQqkrg8ZqOIR-s0s516rTcIJpy8k_09e0snO9UMy50g4tuFYL3-AyLClcRFej_XWKfuOcPRfmo6c7ip59Q_6fd5VuJkjGaSzyhIFgQbV2fWzE9fLbKvWH6rP67qZbXWwOhZYjF2iF8iM6sHl07rxIsib6ZbB4dCGcP5VZN03uIEYJ1f4i0WHmGRriBe8TItvnKfd0OJHzH4vHMDbFcngi8Pla7G6OBMEHeUSlRprkuWvqeCxE-1mBIVvxVtn9FFQCM1g8mmyIMZio8q-SipimAzwoSQRwcmcXIY3XOyFty3tMPt2D9tETONH8OZvdVhnMUvPNqolN_slyJi-ZtB4xJHt-rPUXNDBXr0k_8I-7K27vpCtSkxGpcVgqHe7dpQCczz4ZZ_lQoC51JfvgHLlrVy8AbTbj&p=2&sk=46e54bc9d17bcf09',\n",
        "   'location': u'Chicago, IL',\n",
        "   'title': 'Full Time Front End Web Developer'},\n",
        "  {'company': u'Booking.com',\n",
        "   'date': u'30+ days ago',\n",
        "   'link': 'http://www.indeed.com/pagead/clk?mo=r&ad=-6NYlbfkN0AjD2KY0OiVoPH0bDRjz9u1Knb_KtPZo3z9L801Kj3sBGJC7usFAylz16DUXWUmP5CKsFv6LGcIC3h9o_inZZG33khZzKjsRubScoQzyKgC6wgGsf1XMnYV8nMUZX4y7Ks_R4bM51vCmSfWF4MW5OBlfCMynVUpAI53Y8X70aCDwph37-Z7PkmWxVucyfdXuGMt-_Z5W5CrjGPMkwWpILFioCesUbXJNTamuT0ZUeS6Xt2EzhZKa2SfiZBgsHX479N2g0n9ScuJZbgY4B2aT0z6AjlHZi7jNP1sTdSJVv5PL0wM2kQ5lr6FyxIsen4YiLeuu2vjOzF5k7UO062BTCBNFVOe90tW54gI_itfbqOI97hc2LNZcuKcfLbmbUqShPcggCXttRphT6hk8jyVhVMbeIfmIhVKfWoq2oLYhfTvQoNR90_2xyFKFIAsSykYlW2xFdlo547hLmK98yNjdmieNp2t2VMYsa8=&p=3&sk=46e54bc9d17bcf09',\n",
        "   'location': u'Chicago, IL',\n",
        "   'title': 'Onsite Search Engine Scientist - Relocation to Europe!'},\n",
        "  {'company': u'XR Trading LLC',\n",
        "   'date': u'22 days ago',\n",
        "   'link': 'http://www.indeed.com/pagead/clk?mo=r&ad=-6NYlbfkN0Dd-Ph_PooDch8eCFsojtXHi-LISBeyNNzij-wgnEQ2kLN3BpX7wVUbHQNU-rB_rwZeKBahNz56wHNc1U6W489h0e-XcQzYNvSSDeI9vxitOuWDRKmImbDm8eqsCBudgrmzDqE2r1SlOFdqsbxgcQWNhfwp4csDIjw_y_4OgtwQXzAwGBpxGH7JpYvg9oiJ39s4jJnt9o8om7gh_9Xl6ub70onPZvS-vJYgT8WopneA-gWeEEbrWfWgbhpja7OWHkWDxFbfSakqp1Nt62sxrtmnP_argkEBcxARBjtgMwAB3LktZfepLUx5MpuVbZBSGbqtiAYqSLKtjViNQ6oaSyX6FtcGY9GqLEDAxJS7hDzrzeNm38qx6iTrYJpcgarAggvUsxmyXG5QJlw8vDK2l-zGF2sc5dF4V1fBScL1vus-6ALThWZH_SB4fSHDEHdJEvrvkIFb86c0CSlqjrctiEDiwPdThXXkGMxTKgQfCXLH_1VUbt4Qd4yol74sHQOTnnlVIUyHB1U3mTzMLulVuFZ3VcaiGNmR9Blvnhi0CU5BYw==&p=4&sk=46e54bc9d17bcf09',\n",
        "   'location': u'Chicago, IL',\n",
        "   'title': 'Quantitative Developer'},\n",
        "  {'company': u'Sleepy Giant',\n",
        "   'date': u'30+ days ago',\n",
        "   'link': 'http://www.indeed.com/pagead/clk?mo=r&ad=-6NYlbfkN0A59i7xOu-skuX_VntbjAd1KgCpSvc5b7o401xw_0dVp1ANZAbIC7-j0vglFlRyMMRMJ6953YojMgX9KySly-hXVWO1LAQmLbBB8PKby2rm6n4BbplQ4bfaV1IJnNZQRJy5wn99sPWybpweOw2tWSg3vYRTZuq7afaaR5XRSG9q4IL3g3dxnOvipDN1GLrqgfY3D9tiPLzoPqa7nxaGnOQGNU-y2e-DOX0OnG3uPfRObL9phsh4-gR0tP9QDFoqvy8bq0EJOJBDK8TaIEsepFNh_W-aMoHtFMmQHkzkG6cMzj5XwMzBZUxRuh5d-m7Z-NRmWQPNIJ8avT4fp_CP-6UMZERSbYR3Ty9152WCQOc_r7SrQW_Qr7UQsC5WDVE6SDS__6OmljRbk-USz_mIIsN2-PUgoXjzi4P_YlmHmwMRrc1tMPWnc7eiPwkJ4HScNEcmu2pLAeaOwn-t9AN9bGaD_9V0AZ4LpB4adKzLFIXhCw==&p=5&sk=46e54bc9d17bcf09',\n",
        "   'location': u'Chicago, IL',\n",
        "   'title': 'DevOps Engineer'}],\n",
        " [{'company': u'CyberCoders',\n",
        "   'date': u'24 days ago',\n",
        "   'link': 'http://www.indeed.com/pagead/clk?mo=r&ad=-6NYlbfkN0Dfz_zhh1PhVn_68lwFaODUSFK2hQ1ZH73lhEFH2GG8mX_XGDEsW8lcgNFVGN7v75RJnQEDtU3iVBqiRl2v2b-pSHjMo9NxGniIyQxw4ufVaLaIdLIv1LYUF1tU3quLZker8LrhBrxU5c9QqhvuTVy0SZ4GK-_XtyQe9J91U0w2dBFfZZSBRXBnaOD13OFI1ygLlHVLViZjAXs1OOr-qg6pEhRY4mooj2o6gQxQ5Ar2Q1pm21LfJpFWHntAKnPIUUTDnb_UdfGwKGeWMNlMcLcPwN52481fOXybZaWjBKMRPfYd8m4AmQjNpUd-xr3Tyf8I75_EW3XVlmJgHh4ZztLK-l9GHUxSdy_rn8e4GxmlSEXhH2oMFo6_71GgVNt1X3N432pRHXasTXMgEjvkdB7ql1_h7HdC6OFje658KHxK3AmtKFEKlXVpYoD7uC-vpS4FYDBiiOT2viX6MW02cC3YYChBcLPFs9w=&p=1&sk=46e54bc9d17bcf09',\n",
        "   'location': u'Chicago, IL',\n",
        "   'title': 'Software Developer'},\n",
        "  {'company': u'HERE',\n",
        "   'date': u'24 days ago',\n",
        "   'link': 'http://www.indeed.com/pagead/clk?mo=r&ad=-6NYlbfkN0BYFTMh2KRwuVtVjzQLYXmh4Ms_i-mgE2VLiPSaNKov0bYLgaUpV8eqbJSc_M0Mww_D06wViU06T9G6WtBoYX8Tisn71Gg2IEg5btKJwwfIRhXIJ-eKRpa7ntNU9l-DbGf8_OvHg9XlZTc8Gta4NqgJ4AQxNG3cIhAw1_OpPAaPmicZgrlXigoCF12ugutckBbOKgacjFTjzPS0bWcO1gTybR9eoVwkW0NdIBWK8JyfEV8x2u6ivgHp7U1H8OdzZxdw0-JXc12M1zUkFNuKYru3SZxxDBnCz53RZUR2b0_LBZFGQ73zPB5vZTDi-8MPtFmvjLn_5N6sxN8w31hvunIfas6_iUSaAG05YMN8asPNxtBdJJiATKsshBAjQUUM7g2qvbbMAnv208mdvT1DzFcUs7Mjnsyux9ekpcBGfOa1p9WoLaBWlsOd&p=2&sk=46e54bc9d17bcf09',\n",
        "   'location': u'Chicago, IL',\n",
        "   'title': 'DevOps Engineer'},\n",
        "  {'company': u'Paul May and Associates',\n",
        "   'date': u'1 day ago',\n",
        "   'link': 'http://www.indeed.com/pagead/clk?mo=r&ad=-6NYlbfkN0AtmmgL-6xvNJ2TgfBOZULzFUyk3B45PtfzaCI94ECTxHNl8hB_n5YxoPt3_yegDSXfEQx673TICbUAZvYj-smOIarkRNEECgiXz8MM3U2rXUBSG-IoDINboyaWVt5y1JlpethivojT_pODVfyXXvIpqDbCb5VKMpmhfo4IeXycg9xGhKZ9NrgRL-AgQaRqRq5GdNPfyHUzGkWVeZ0tdiz5DOx_BUo7yMuJlXZqzQSYEjARu8gh0rBn9I07F526uDPn7YQwORYsQk1iVLHCWK_3M_TCqs5t362XQbb6MKP5rFdMD1Nbi4sBl21yfM5-NkET4lAQ9h8g1M81aXUWpCMC3EW7pffgwN1s0nEvLHLst-2JLwZcdQDVxdEQ1kULQbESUDgtn-wPVujoOMddmPeNODmkxeYgrZnmGAlPcTZAmagbbo4i737OS4iEsNRijHMoRbTNhHdb20PqywPw0qWM9Eu_OcT_EXbQrs3K7XPgGsXAHofi0oWnYUF0imSkiIL1-6kTqhymjbMS7lxi--Q52AxawjtpcDcO-QrQTuof3SDAkh2yzq0gSlCQ2wLtn3FOF_uYh6JrYB8bLKerNiOFSsbYkkbGjb0=&p=3&sk=46e54bc9d17bcf09',\n",
        "   'location': u'Deerfield, IL',\n",
        "   'title': 'Python Web Developer'},\n",
        "  {'company': u'XR Trading LLC',\n",
        "   'date': u'22 days ago',\n",
        "   'link': 'http://www.indeed.com/pagead/clk?mo=r&ad=-6NYlbfkN0Dd-Ph_PooDch8eCFsojtXHi-LISBeyNNzij-wgnEQ2kLN3BpX7wVUbHQNU-rB_rwZeKBahNz56wHNc1U6W489hHbKXiMuwdQLNbewsJ_QcaSSR2vylRz9xsdxPOHI0z0FI-TAKNssU3sdNAvQ1SOJMIzjUcEq2FGmj8gL2XrBo6ZHJRFR3h2zEtIAW_xLzse79erY0Ww5aN80HHeK2Ry-57dV3RnVhA6cJhkg7fNuQckUZkXeG6xY1d0U8sI8yDeBr2N_0vdjX70UxMce_dRFLIGpGl7LzK47VDgK22yXPpaCoZRmMWgSkrk4RYCfJNwLMKE0fVJT6DjJF8QwOcRu-4xnQiphCdzy_olq5m4-vpSY_4iC83oIFtdilwKi_7wvoVtKEkhOXTD2jmxhEmQgmOTmeCdZQ4Xy6PutqfbXMcwyAoI8x47_BoubEuZj1W_Ta9Ygoxg2OnxCzbURmqqfQfMgUOXlQWdP7Wenw8hOsxrlKWU3HXZGJoQV3bBcRTRZjOPa-mduVIpSTiKHAk6QHkQjGsk_bofSlFqiYlr374g==&p=4&sk=46e54bc9d17bcf09',\n",
        "   'location': u'Chicago, IL',\n",
        "   'title': 'Quantitative Developer'},\n",
        "  {'company': u'Sleepy Giant',\n",
        "   'date': u'30+ days ago',\n",
        "   'link': 'http://www.indeed.com/pagead/clk?mo=r&ad=-6NYlbfkN0A59i7xOu-skuX_VntbjAd1KgCpSvc5b7o401xw_0dVp1ANZAbIC7-j0vglFlRyMMRMJ6953YojMgX9KySly-hXUWwrirL3CWhxGNwNcudSNj4MXFpxBorlpnwmLN4pXdShsa8VE4RDA_Tc8D9r_OZjG1zl6a2gpHH4xhgy-b8CV7EmfvyBL3VbUb6AviOyew4FJlYui6t4w6MV41Q9v-kw3lKUwtrMB5Xkc2dey6H1QXp6FiOEiEf2YX_i-1peUIoLoI3yes640aYNPXZMYdsjULdlSFqcfB0mB64LXYrX-lVGWLT-MrJfm8Py5nx9e0G4qL43m1lvsPy7W2iMcTv-wosgfMAQbzCtPA1BY9tU93Gowlhk2g8bUyd4Q9Y2fGvTj_L2KsAMq8oBcrsIpjzDzGrU75UaprPIyH88SsWwy3f6VfY9t9aioLy1Q6b4ShyxfaoHS7-BdIw8pwBMRlsZ-K-6Gk4UW-kVKkNt9bV6rg==&p=5&sk=46e54bc9d17bcf09',\n",
        "   'location': u'Chicago, IL',\n",
        "   'title': 'DevOps Engineer'}]]"
       ]
      }
     ],
     "prompt_number": 45
    },
    {
     "cell_type": "code",
     "collapsed": false,
     "input": [],
     "language": "python",
     "metadata": {},
     "outputs": []
    }
   ],
   "metadata": {}
  }
 ]
}