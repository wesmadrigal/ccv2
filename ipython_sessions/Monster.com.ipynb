{
 "metadata": {
  "name": ""
 },
 "nbformat": 3,
 "nbformat_minor": 0,
 "worksheets": [
  {
   "cells": [
    {
     "cell_type": "code",
     "collapsed": false,
     "input": [
      "import mechanize\n",
      "import cookielib\n",
      "import urllib2\n",
      "from bs4 import BeautifulSoup"
     ],
     "language": "python",
     "metadata": {},
     "outputs": [],
     "prompt_number": 7
    },
    {
     "cell_type": "code",
     "collapsed": false,
     "input": [
      "def get_browser():\n",
      "    br = mechanize.Browser()\n",
      "    cookiejar = cookielib.LWPCookieJar()\n",
      "    br.set_cookiejar(cookiejar)\n",
      "    br.set_handle_robots(False)\n",
      "    br.set_debug_http(True)\n",
      "    br.set_handle_equiv(True)\n",
      "    br.set_handle_gzip(True)\n",
      "    br.set_debug_redirects(True)\n",
      "    br.addheaders = [('User-Agent', 'Mozilla/5.0 (X11; U; Linux i686; en-US; rv:1.9.0.1) Gecko/2008071615 Fedora/3.0.1-1.fc9 Firefox/3.0.1')]\n",
      "    return br# setup the browser instance"
     ],
     "language": "python",
     "metadata": {},
     "outputs": [],
     "prompt_number": 8
    },
    {
     "cell_type": "code",
     "collapsed": false,
     "input": [
      "def get_monster():\n",
      "    base_url = 'http://www.monster.com'\n",
      "    br = get_browser()\n",
      "    br.open( base_url )\n",
      "    soup = br.response().read()\n",
      "    # do the extractions\n",
      "    \n",
      "    for page in pagination:\n",
      "        # extract jobs\n",
      "    \n",
      "def drink_monster_soup(soup):\n",
      "    "
     ],
     "language": "python",
     "metadata": {},
     "outputs": []
    }
   ],
   "metadata": {}
  }
 ]
}